{
  "nbformat": 4,
  "nbformat_minor": 0,
  "metadata": {
    "colab": {
      "provenance": [],
      "toc_visible": true
    },
    "kernelspec": {
      "name": "python3",
      "display_name": "Python 3"
    },
    "language_info": {
      "name": "python"
    }
  },
  "cells": [
    {
      "cell_type": "code",
      "execution_count": null,
      "metadata": {
        "colab": {
          "base_uri": "https://localhost:8080/"
        },
        "id": "waBy1YjPKvVj",
        "outputId": "b9972587-e2c7-4428-d1dc-1010c9006db5"
      },
      "outputs": [
        {
          "output_type": "stream",
          "name": "stdout",
          "text": [
            "welcome to assignments-1\n"
          ]
        }
      ],
      "source": [
        "print(\"welcome to assignments-1\")"
      ]
    },
    {
      "cell_type": "code",
      "source": [
        "BMI=int(Input(\"enter the body mass index:\"))"
      ],
      "metadata": {
        "colab": {
          "base_uri": "https://localhost:8080/"
        },
        "id": "srHCVOJ6PFgJ",
        "outputId": "37c0dd81-2e3c-40db-c5d5-e8897888b425"
      },
      "execution_count": null,
      "outputs": [
        {
          "name": "stdout",
          "output_type": "stream",
          "text": [
            "enter the body mass index:34\n"
          ]
        }
      ]
    },
    {
      "cell_type": "code",
      "source": [
        "BMI=int(input(\"enter the BMI:\"))\n",
        "\n",
        "if(BMI<18.5):\n",
        "  print(\"under weight\")\n",
        "elif(BMI<24.9):\n",
        "   print(\"normal\")\n",
        "elif(BMI<29.9):\n",
        "   print(\"over weight\")\n",
        "else:\n",
        "    print(\"very over weight\")\n"
      ],
      "metadata": {
        "colab": {
          "base_uri": "https://localhost:8080/"
        },
        "id": "6M0crNLEQL9C",
        "outputId": "0c66e0cd-4c4e-4071-d7e8-fb47e54e8943"
      },
      "execution_count": null,
      "outputs": [
        {
          "output_type": "stream",
          "name": "stdout",
          "text": [
            "enter the BMI:34\n",
            "very over weight\n"
          ]
        }
      ]
    },
    {
      "cell_type": "code",
      "source": [],
      "metadata": {
        "id": "4bz5Fj1GQLy8"
      },
      "execution_count": null,
      "outputs": []
    },
    {
      "cell_type": "code",
      "source": [],
      "metadata": {
        "id": "uylrE1AmQLwG"
      },
      "execution_count": null,
      "outputs": []
    },
    {
      "cell_type": "code",
      "source": [
        "num1=10\n",
        "print(\"num1:\",num1)\n",
        "num2=30\n",
        "print(\"num2:\",num2)\n",
        "add=num1+num2\n",
        "print(\"add:\",add)"
      ],
      "metadata": {
        "colab": {
          "base_uri": "https://localhost:8080/"
        },
        "id": "_6mPcVRaOat-",
        "outputId": "5573b5b0-c09b-4ca9-ad46-74f18fbff0a5"
      },
      "execution_count": null,
      "outputs": [
        {
          "output_type": "stream",
          "name": "stdout",
          "text": [
            "num1: 10\n",
            "num2: 30\n",
            "add: 40\n"
          ]
        }
      ]
    },
    {
      "cell_type": "code",
      "source": [],
      "metadata": {
        "id": "V7zkYY8fQLWl"
      },
      "execution_count": null,
      "outputs": []
    },
    {
      "cell_type": "code",
      "source": [],
      "metadata": {
        "id": "aJKuU60PQK_P"
      },
      "execution_count": null,
      "outputs": []
    },
    {
      "cell_type": "code",
      "source": [],
      "metadata": {
        "id": "XeqIFfj5QKg1"
      },
      "execution_count": null,
      "outputs": []
    }
  ]
}