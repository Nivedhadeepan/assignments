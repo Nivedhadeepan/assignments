{
 "cells": [
  {
   "cell_type": "code",
   "execution_count": 1,
   "id": "1806cd87-fc7a-47d6-a731-1175199940df",
   "metadata": {},
   "outputs": [],
   "source": [
    "import pickle"
   ]
  },
  {
   "cell_type": "code",
   "execution_count": 2,
   "id": "1a1c5574-1bbb-4f3b-a7ac-237fce3724d7",
   "metadata": {},
   "outputs": [],
   "source": [
    "filename=\"insurance_final.sav\""
   ]
  },
  {
   "cell_type": "code",
   "execution_count": 5,
   "id": "757eefa0-99e5-49de-a861-821d01851796",
   "metadata": {},
   "outputs": [
    {
     "name": "stderr",
     "output_type": "stream",
     "text": [
      "C:\\anaconda3\\Lib\\site-packages\\sklearn\\base.py:493: UserWarning: X does not have valid feature names, but RandomForestRegressor was fitted with feature names\n",
      "  warnings.warn(\n"
     ]
    }
   ],
   "source": [
    "loaded_model=pickle.load(open(filename,\"rb\"))\n",
    "result=loaded_model.predict([[40,26,0,1,0]])"
   ]
  },
  {
   "cell_type": "code",
   "execution_count": 6,
   "id": "09d103b7-f8f5-4416-9ed1-cf69db9a18a6",
   "metadata": {},
   "outputs": [
    {
     "data": {
      "text/plain": [
       "array([5659.614296])"
      ]
     },
     "execution_count": 6,
     "metadata": {},
     "output_type": "execute_result"
    }
   ],
   "source": [
    "result"
   ]
  },
  {
   "cell_type": "code",
   "execution_count": null,
   "id": "64cccc26-01e0-4718-8fc6-f5ca904117d1",
   "metadata": {},
   "outputs": [],
   "source": []
  }
 ],
 "metadata": {
  "kernelspec": {
   "display_name": "Python 3 (ipykernel)",
   "language": "python",
   "name": "python3"
  },
  "language_info": {
   "codemirror_mode": {
    "name": "ipython",
    "version": 3
   },
   "file_extension": ".py",
   "mimetype": "text/x-python",
   "name": "python",
   "nbconvert_exporter": "python",
   "pygments_lexer": "ipython3",
   "version": "3.12.7"
  }
 },
 "nbformat": 4,
 "nbformat_minor": 5
}
